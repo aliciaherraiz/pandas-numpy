{
 "metadata": {
  "language_info": {
   "codemirror_mode": {
    "name": "ipython",
    "version": 3
   },
   "file_extension": ".py",
   "mimetype": "text/x-python",
   "name": "python",
   "nbconvert_exporter": "python",
   "pygments_lexer": "ipython3",
   "version": "3.8.5-final"
  },
  "orig_nbformat": 2,
  "kernelspec": {
   "name": "python3",
   "display_name": "Python 3",
   "language": "python"
  }
 },
 "nbformat": 4,
 "nbformat_minor": 2,
 "cells": [
  {
   "cell_type": "code",
   "execution_count": 117,
   "metadata": {},
   "outputs": [
    {
     "output_type": "stream",
     "name": "stdout",
     "text": [
      "[[0.54019963 0.48923204]\n [0.92954977 0.92340502]]\n"
     ]
    }
   ],
   "source": [
    "import numpy as np\n",
    "\n",
    "e = np.random.random((2,2))\n",
    "print(e)"
   ]
  },
  {
   "cell_type": "code",
   "execution_count": 118,
   "metadata": {},
   "outputs": [
    {
     "output_type": "stream",
     "name": "stdout",
     "text": [
      "[[0. 0.]\n [0. 0.]]\n"
     ]
    }
   ],
   "source": [
    "a = np.zeros((2,2))\n",
    "print(a)"
   ]
  },
  {
   "cell_type": "code",
   "execution_count": 119,
   "metadata": {},
   "outputs": [
    {
     "output_type": "stream",
     "name": "stdout",
     "text": [
      "[[7 7 7]\n [7 7 7]\n [7 7 7]\n [7 7 7]]\n"
     ]
    }
   ],
   "source": [
    "c = np.full((4,3), 7)\n",
    "print(c)"
   ]
  },
  {
   "cell_type": "code",
   "execution_count": 120,
   "metadata": {},
   "outputs": [
    {
     "output_type": "stream",
     "name": "stdout",
     "text": [
      "[[1. 1.]\n [1. 1.]\n [1. 1.]\n [1. 1.]\n [1. 1.]]\n"
     ]
    }
   ],
   "source": [
    "b = np.ones((5,2))\n",
    "print(b)  "
   ]
  },
  {
   "cell_type": "code",
   "execution_count": 121,
   "metadata": {},
   "outputs": [
    {
     "output_type": "error",
     "ename": "SyntaxError",
     "evalue": "invalid syntax (<ipython-input-121-adbaab848d3b>, line 2)",
     "traceback": [
      "\u001b[1;36m  File \u001b[1;32m\"<ipython-input-121-adbaab848d3b>\"\u001b[1;36m, line \u001b[1;32m2\u001b[0m\n\u001b[1;33m    print(a[0], a[], a[2])\u001b[0m\n\u001b[1;37m                  ^\u001b[0m\n\u001b[1;31mSyntaxError\u001b[0m\u001b[1;31m:\u001b[0m invalid syntax\n"
     ]
    }
   ],
   "source": [
    "a = np.array([1, 2, 3,])\n",
    "print(a[0], a[], a[2])"
   ]
  },
  {
   "cell_type": "code",
   "execution_count": 29,
   "metadata": {},
   "outputs": [
    {
     "output_type": "error",
     "ename": "SyntaxError",
     "evalue": "invalid syntax (<ipython-input-29-4f46b8ea64b5>, line 1)",
     "traceback": [
      "\u001b[1;36m  File \u001b[1;32m\"<ipython-input-29-4f46b8ea64b5>\"\u001b[1;36m, line \u001b[1;32m1\u001b[0m\n\u001b[1;33m    Create the following rank 2 array with shape (3, 4)\u001b[0m\n\u001b[1;37m           ^\u001b[0m\n\u001b[1;31mSyntaxError\u001b[0m\u001b[1;31m:\u001b[0m invalid syntax\n"
     ]
    }
   ],
   "source": [
    " Create the following rank 2 array with shape (3, 4)\n",
    "# [[ 1  2  3  4]\n",
    "#  [ 5  6  7  8]\n",
    "#  [ 9 10 11 12]]\n",
    "a = np.array([[1,2,3,4], [5,6,7,8], [9,10,11,12]])\n",
    "print(a[:])"
   ]
  },
  {
   "cell_type": "code",
   "execution_count": 27,
   "metadata": {},
   "outputs": [
    {
     "output_type": "error",
     "ename": "SyntaxError",
     "evalue": "invalid syntax (<ipython-input-27-a4beb4fd6b1d>, line 5)",
     "traceback": [
      "\u001b[1;36m  File \u001b[1;32m\"<ipython-input-27-a4beb4fd6b1d>\"\u001b[1;36m, line \u001b[1;32m5\u001b[0m\n\u001b[1;33m    b= a[:2], [1:3]\u001b[0m\n\u001b[1;37m                ^\u001b[0m\n\u001b[1;31mSyntaxError\u001b[0m\u001b[1;31m:\u001b[0m invalid syntax\n"
     ]
    }
   ],
   "source": [
    "# Use slicing to pull out the subarray consisting of the first 2 rows\n",
    "# and columns 1 and 2; b is the following array of shape (2, 2):\n",
    "# [[2 3]\n",
    "#  [6 7]]\n",
    "b= a[:2], [1:3]"
   ]
  },
  {
   "cell_type": "code",
   "execution_count": 64,
   "metadata": {},
   "outputs": [
    {
     "output_type": "stream",
     "name": "stdout",
     "text": [
      "[[ 1  2  3  4]\n [ 5  6  7  8]\n [ 9 10 11 12]]\n"
     ]
    }
   ],
   "source": [
    "import numpy as np\n",
    "a = np.array([[1,2,3,4], [5,6,7,8], [9,10,11,12]])\n",
    "row_r1 = a[:2, :4]\n",
    "row_r2 = a[:3, :3]\n",
    "print(a)"
   ]
  },
  {
   "cell_type": "code",
   "execution_count": 72,
   "metadata": {},
   "outputs": [
    {
     "output_type": "stream",
     "name": "stdout",
     "text": [
      "[ 1  6  7 10]\n"
     ]
    }
   ],
   "source": [
    "import numpy as np\n",
    "\n",
    "a = np.array([[1,2,3], [4,5,6], [7,8,9], [10, 11, 12]])\n",
    "\n",
    "# Create an array of indices\n",
    "b = np.array([0, 2, 0, 0])\n",
    "print(a[np.arange(4), b])"
   ]
  },
  {
   "cell_type": "code",
   "execution_count": 74,
   "metadata": {},
   "outputs": [
    {
     "output_type": "stream",
     "name": "stdout",
     "text": [
      "[[11  2  3]\n [ 4  5 16]\n [17  8  9]\n [10 21 12]]\n"
     ]
    }
   ],
   "source": [
    "a = np.array([[1,2,3], [4,5,6], [7,8,9], [10, 11, 12]])\n",
    "b = np.array([0, 2, 0, 1])\n",
    "a[np.arange(4), b] += 10\n",
    "print(a)"
   ]
  },
  {
   "cell_type": "code",
   "execution_count": 78,
   "metadata": {},
   "outputs": [
    {
     "output_type": "stream",
     "name": "stdout",
     "text": [
      "[3 4 5 6]\n"
     ]
    }
   ],
   "source": [
    "a = np.array([[1,2], [3, 4], [5, 6]])\n",
    "print(a[a >= 3])"
   ]
  },
  {
   "cell_type": "code",
   "execution_count": 83,
   "metadata": {},
   "outputs": [
    {
     "output_type": "stream",
     "name": "stdout",
     "text": [
      "[[-4. -4.]\n [-4. -4.]]\n"
     ]
    }
   ],
   "source": [
    "x = np.array([[1,2],[3,4]], dtype=np.float64)\n",
    "y = np.array([[5,6],[7,8]], dtype=np.float64)\n",
    "print(np.subtract(x, y))"
   ]
  },
  {
   "cell_type": "code",
   "execution_count": 85,
   "metadata": {},
   "outputs": [
    {
     "output_type": "stream",
     "name": "stdout",
     "text": [
      "219\n"
     ]
    }
   ],
   "source": [
    "import numpy as np\n",
    "\n",
    "x = np.array([[1,2],[3,4]])\n",
    "y = np.array([[5,6],[7,8]])\n",
    "\n",
    "v = np.array([9,10])\n",
    "w = np.array([11, 12])\n",
    "print(np.dot(v, w))"
   ]
  },
  {
   "cell_type": "code",
   "execution_count": 87,
   "metadata": {},
   "outputs": [
    {
     "output_type": "stream",
     "name": "stdout",
     "text": [
      "     name  degree  score\n0   Sunil     MBA     90\n1  pankaj     BCA     40\n2  sudhir  M.Tech     80\n3   Geeku     MBA     98\n"
     ]
    }
   ],
   "source": [
    "# importing pandas as pd \n",
    "import pandas as pd \n",
    "   \n",
    "# dictionary of lists \n",
    "dict = {'name':[\"Sunil\", \"pankaj\", \"sudhir\", \"Geeku\"], \n",
    "        'degree': [\"MBA\", \"BCA\", \"M.Tech\", \"MBA\"], \n",
    "        'score':[90, 40, 80, 98]} \n",
    "   \n",
    "df = pd.DataFrame(dict) \n",
    "   \n",
    "print(df) "
   ]
  },
  {
   "cell_type": "code",
   "execution_count": 110,
   "metadata": {},
   "outputs": [
    {
     "output_type": "execute_result",
     "data": {
      "text/plain": [
       "        Height Qualification       Hobby\n",
       "Sarah      5.1           Msc      Poetry\n",
       "Princi     6.2            MA  Travelling"
      ],
      "text/html": "<div>\n<style scoped>\n    .dataframe tbody tr th:only-of-type {\n        vertical-align: middle;\n    }\n\n    .dataframe tbody tr th {\n        vertical-align: top;\n    }\n\n    .dataframe thead th {\n        text-align: right;\n    }\n</style>\n<table border=\"1\" class=\"dataframe\">\n  <thead>\n    <tr style=\"text-align: right;\">\n      <th></th>\n      <th>Height</th>\n      <th>Qualification</th>\n      <th>Hobby</th>\n    </tr>\n  </thead>\n  <tbody>\n    <tr>\n      <th>Sarah</th>\n      <td>5.1</td>\n      <td>Msc</td>\n      <td>Poetry</td>\n    </tr>\n    <tr>\n      <th>Princi</th>\n      <td>6.2</td>\n      <td>MA</td>\n      <td>Travelling</td>\n    </tr>\n  </tbody>\n</table>\n</div>"
     },
     "metadata": {},
     "execution_count": 110
    }
   ],
   "source": [
    "# Import pandas package  \n",
    "import pandas as pd \n",
    "   \n",
    "# Define a dictionary containing Students data \n",
    "data = {'Height': [5.1, 6.2, 5.1, 5.2], \n",
    "        'Qualification': ['Msc', 'MA', 'Msc', 'Msc'],\n",
    "        'Hobby': ['Poetry', 'Travelling', 'Biking', 'Sports']} \n",
    " \n",
    "df = pd.DataFrame(data)\n",
    "df.index = ['Sarah', 'Princi', 'Gaurav', 'Anuj']\n",
    " \n",
    "1\n",
    "2\n",
    "# select two rows\n",
    "df.loc[[\"Sarah\", \"Princi\"]]\n"
   ]
  },
  {
   "cell_type": "code",
   "execution_count": 116,
   "metadata": {},
   "outputs": [
    {
     "output_type": "stream",
     "name": "stdout",
     "text": [
      "        Height Qualification       Hobby\nSarah      5.1           Msc      Poetry\nPrinci     6.2            MA  Travelling\nGaurav     5.1           Msc      Biking\nAnuj       5.2           Msc      Sports\n\n After adding row NewRow \n\n"
     ]
    },
    {
     "output_type": "execute_result",
     "data": {
      "text/plain": [
       "        Height Qualification       Hobby\n",
       "NewRow     5.3      Bachelor      Sports\n",
       "Sarah      5.1           Msc      Poetry\n",
       "Princi     6.2            MA  Travelling\n",
       "Gaurav     5.1           Msc      Biking\n",
       "Anuj       5.2           Msc      Sports"
      ],
      "text/html": "<div>\n<style scoped>\n    .dataframe tbody tr th:only-of-type {\n        vertical-align: middle;\n    }\n\n    .dataframe tbody tr th {\n        vertical-align: top;\n    }\n\n    .dataframe thead th {\n        text-align: right;\n    }\n</style>\n<table border=\"1\" class=\"dataframe\">\n  <thead>\n    <tr style=\"text-align: right;\">\n      <th></th>\n      <th>Height</th>\n      <th>Qualification</th>\n      <th>Hobby</th>\n    </tr>\n  </thead>\n  <tbody>\n    <tr>\n      <th>NewRow</th>\n      <td>5.3</td>\n      <td>Bachelor</td>\n      <td>Sports</td>\n    </tr>\n    <tr>\n      <th>Sarah</th>\n      <td>5.1</td>\n      <td>Msc</td>\n      <td>Poetry</td>\n    </tr>\n    <tr>\n      <th>Princi</th>\n      <td>6.2</td>\n      <td>MA</td>\n      <td>Travelling</td>\n    </tr>\n    <tr>\n      <th>Gaurav</th>\n      <td>5.1</td>\n      <td>Msc</td>\n      <td>Biking</td>\n    </tr>\n    <tr>\n      <th>Anuj</th>\n      <td>5.2</td>\n      <td>Msc</td>\n      <td>Sports</td>\n    </tr>\n  </tbody>\n</table>\n</div>"
     },
     "metadata": {},
     "execution_count": 116
    }
   ],
   "source": [
    "# Import pandas package  \n",
    "import pandas as pd \n",
    "   \n",
    "# Define a dictionary containing Students data \n",
    "data = {'Height': [5.1, 6.2, 5.1, 5.2], \n",
    "        'Qualification': ['Msc', 'MA', 'Msc', 'Msc'],\n",
    "        'Hobby': ['Poetry', 'Travelling', 'Biking', 'Sports']} \n",
    " \n",
    "df = pd.DataFrame(data)\n",
    "df.index = ['Sarah', 'Princi', 'Gaurav', 'Anuj']\n",
    " \n",
    "print(df)\n",
    " \n",
    " \n",
    "new_row = pd.DataFrame({'Height': 5.3, 'Qualification': 'Bachelor' , 'Hobby': 'Sports'}, \n",
    "                                                            index =['NewRow'])\n",
    "df = pd.concat([new_row, df])\n",
    " \n",
    "print ('\\n After adding row NewRow \\n')\n",
    " \n",
    "df"
   ]
  },
  {
   "cell_type": "code",
   "execution_count": 139,
   "metadata": {},
   "outputs": [
    {
     "output_type": "stream",
     "name": "stdout",
     "text": [
      "     Name  Height Qualification       Hobby\n0   Janvi     5.1           Msc      Poetry\n1  Rushel     6.2            MA  Travelling\n     Name  Height Qualification       Hobby\n0   Sarah     5.1           Msc      Poetry\n1  Princi     6.2            MA  Travelling\n2  Gaurav     5.1           Msc      Biking\n"
     ]
    }
   ],
   "source": [
    "# Import pandas package  \n",
    "import pandas as pd \n",
    "   \n",
    "# Define a dictionary containing Students data \n",
    "data = {'Name': ['Sarah', 'Princi', 'Gaurav'], \n",
    "        'Height': [5.1, 6.2, 5.1], \n",
    "        'Qualification': ['Msc', 'MA', 'Msc'],\n",
    "        'Hobby': ['Poetry', 'Travelling', 'Biking']} \n",
    "   \n",
    "# Convert the dictionary into DataFrame \n",
    "df = pd.DataFrame(data) \n",
    "\n",
    "# Define a dictionary containing New data to append\n",
    "data = {'Name': ['Janvi', 'Rushel'], \n",
    "        'Height': [5.1, 6.2], \n",
    "        'Qualification': ['Msc', 'MA'],\n",
    "        'Hobby': ['Poetry', 'Travelling']} \n",
    "   \n",
    "# Convert the dictionary into DataFrame \n",
    "df_to_append = pd.DataFrame(data) \n",
    "\n",
    "#append the df_to_append to the original dataframe\n",
    "df.append(df_to_append, ignore_index= True)\n",
    "print(df_to_append)\n",
    "print(df)\n"
   ]
  },
  {
   "cell_type": "code",
   "execution_count": 154,
   "metadata": {},
   "outputs": [
    {
     "output_type": "stream",
     "name": "stdout",
     "text": [
      "     Name  Height Qualification       Hobby\n0   Sarah     5.1           Msc      Poetry\n1  Princi     6.2            MA  Travelling\n2  Gaurav     5.1           Msc      Biking\n\n After dropping \n\n"
     ]
    },
    {
     "output_type": "execute_result",
     "data": {
      "text/plain": [
       "     Name  Height Qualification   Hobby\n",
       "2  Gaurav     5.1           Msc  Biking"
      ],
      "text/html": "<div>\n<style scoped>\n    .dataframe tbody tr th:only-of-type {\n        vertical-align: middle;\n    }\n\n    .dataframe tbody tr th {\n        vertical-align: top;\n    }\n\n    .dataframe thead th {\n        text-align: right;\n    }\n</style>\n<table border=\"1\" class=\"dataframe\">\n  <thead>\n    <tr style=\"text-align: right;\">\n      <th></th>\n      <th>Name</th>\n      <th>Height</th>\n      <th>Qualification</th>\n      <th>Hobby</th>\n    </tr>\n  </thead>\n  <tbody>\n    <tr>\n      <th>2</th>\n      <td>Gaurav</td>\n      <td>5.1</td>\n      <td>Msc</td>\n      <td>Biking</td>\n    </tr>\n  </tbody>\n</table>\n</div>"
     },
     "metadata": {},
     "execution_count": 154
    }
   ],
   "source": [
    "# Import pandas package  \n",
    "import pandas as pd \n",
    "   \n",
    "# Define a dictionary containing Students data \n",
    "data = {'Name': ['Sarah', 'Princi', 'Gaurav'], \n",
    "        'Height': [5.1, 6.2, 5.1], \n",
    "        'Qualification': ['Msc', 'MA', 'Msc'],\n",
    "        'Hobby': ['Poetry', 'Travelling', 'Biking']} \n",
    "   \n",
    "# Convert the dictionary into DataFrame \n",
    "df = pd.DataFrame(data) \n",
    " \n",
    "print(df)\n",
    " \n",
    "print('\\n After dropping \\n')\n",
    " \n",
    "df.drop([0,1])"
   ]
  },
  {
   "cell_type": "code",
   "execution_count": 159,
   "metadata": {},
   "outputs": [
    {
     "output_type": "error",
     "ename": "SyntaxError",
     "evalue": "invalid syntax (<ipython-input-159-4cc082f2300a>, line 1)",
     "traceback": [
      "\u001b[1;36m  File \u001b[1;32m\"<ipython-input-159-4cc082f2300a>\"\u001b[1;36m, line \u001b[1;32m1\u001b[0m\n\u001b[1;33m    You can rename index names rename() function.\u001b[0m\n\u001b[1;37m        ^\u001b[0m\n\u001b[1;31mSyntaxError\u001b[0m\u001b[1;31m:\u001b[0m invalid syntax\n"
     ]
    }
   ],
   "source": [
    "You can rename index names rename() function.\n",
    "\n",
    "import pandas as pd \n",
    "   \n",
    "# making data frame from csv file \n",
    "# Define a dictionary containing Students data \n",
    "data = {'Name': ['Sarah', 'Princi', 'Gaurav'], \n",
    "        'Height': [5.1, 6.2, 5.1], \n",
    "        'Qualification': ['Msc', 'MA', 'Msc'],\n",
    "        'Hobby': ['Poetry', 'Travelling', 'Biking']} \n",
    "   \n",
    "# Convert the dictionary into DataFrame \n",
    "df = pd.DataFrame(data) \n",
    "\n",
    "# changing index cols with rename() to 1st, 2nd &amp; 3rd Record respectively\n",
    "df.rename(index = {  0: \"1st Record\", \n",
    "                     1:\"2nd Record\", \n",
    "                     2: \"3rd Record\"}, \n",
    "                                 inplace = True) \n",
    "# display \n",
    "df "
   ]
  },
  {
   "cell_type": "code",
   "execution_count": 175,
   "metadata": {},
   "outputs": [
    {
     "output_type": "execute_result",
     "data": {
      "text/plain": [
       "     Name  Age    Address\n",
       "0   Sarah   27    Kolkata\n",
       "1  Princi   24     Kanpur\n",
       "2  Gaurav   22  Allahabad\n",
       "3    Anuj   32      Delhi"
      ],
      "text/html": "<div>\n<style scoped>\n    .dataframe tbody tr th:only-of-type {\n        vertical-align: middle;\n    }\n\n    .dataframe tbody tr th {\n        vertical-align: top;\n    }\n\n    .dataframe thead th {\n        text-align: right;\n    }\n</style>\n<table border=\"1\" class=\"dataframe\">\n  <thead>\n    <tr style=\"text-align: right;\">\n      <th></th>\n      <th>Name</th>\n      <th>Age</th>\n      <th>Address</th>\n    </tr>\n  </thead>\n  <tbody>\n    <tr>\n      <th>0</th>\n      <td>Sarah</td>\n      <td>27</td>\n      <td>Kolkata</td>\n    </tr>\n    <tr>\n      <th>1</th>\n      <td>Princi</td>\n      <td>24</td>\n      <td>Kanpur</td>\n    </tr>\n    <tr>\n      <th>2</th>\n      <td>Gaurav</td>\n      <td>22</td>\n      <td>Allahabad</td>\n    </tr>\n    <tr>\n      <th>3</th>\n      <td>Anuj</td>\n      <td>32</td>\n      <td>Delhi</td>\n    </tr>\n  </tbody>\n</table>\n</div>"
     },
     "metadata": {},
     "execution_count": 175
    }
   ],
   "source": [
    "\n",
    "# Import pandas package\n",
    "import pandas as pd\n",
    "  \n",
    "# Define a dictionary containing employee data\n",
    "data = {'Name':['Sarah', 'Princi', 'Gaurav', 'Anuj'],\n",
    "        'Age':[27, 24, 22, 32],\n",
    "        'Address':['Kolkata', 'Kanpur', 'Allahabad', 'Delhi'],\n",
    "        'Qualification':['Msc', 'MA', 'MCA', 'Phd']}\n",
    "  \n",
    "# Convert the dictionary into DataFrame \n",
    "df = pd.DataFrame(data)\n",
    " \n",
    " \n",
    "# select all rows by ':' \n",
    "# select two columns Name and Qualification by their position\n",
    " \n",
    "df[df.columns[0:3]] "
   ]
  },
  {
   "cell_type": "code",
   "execution_count": 177,
   "metadata": {},
   "outputs": [
    {
     "output_type": "execute_result",
     "data": {
      "text/plain": [
       "                                  Film    Genre            Lead Studio  \\\n",
       "0           Zack and Miri Make a Porno  Romance  The Weinstein Company   \n",
       "1                      Youth in Revolt   Comedy  The Weinstein Company   \n",
       "2   You Will Meet a Tall Dark Stranger   Comedy            Independent   \n",
       "3                         When in Rome   Comedy                 Disney   \n",
       "4                What Happens in Vegas   Comedy                    Fox   \n",
       "..                                 ...      ...                    ...   \n",
       "72                 Across the Universe  romance            Independent   \n",
       "73                       A Serious Man    Drama              Universal   \n",
       "74                  A Dangerous Method    Drama            Independent   \n",
       "75                          27 Dresses   Comedy                    Fox   \n",
       "76                (500) Days of Summer   comedy                    Fox   \n",
       "\n",
       "    Audience score %  Profitability  Rotten Tomatoes % Worldwide Gross  Year  \n",
       "0                 70       1.747542                 64         $41.94   2008  \n",
       "1                 52       1.090000                 68         $19.62   2010  \n",
       "2                 35       1.211818                 43         $26.66   2010  \n",
       "3                 44       0.000000                 15         $43.04   2010  \n",
       "4                 72       6.267647                 28        $219.37   2008  \n",
       "..               ...            ...                ...             ...   ...  \n",
       "72                84       0.652603                 54         $29.37   2007  \n",
       "73                64       4.382857                 89         $30.68   2009  \n",
       "74                89       0.448645                 79          $8.97   2011  \n",
       "75                71       5.343622                 40        $160.31   2008  \n",
       "76                81       8.096000                 87         $60.72   2009  \n",
       "\n",
       "[77 rows x 8 columns]"
      ],
      "text/html": "<div>\n<style scoped>\n    .dataframe tbody tr th:only-of-type {\n        vertical-align: middle;\n    }\n\n    .dataframe tbody tr th {\n        vertical-align: top;\n    }\n\n    .dataframe thead th {\n        text-align: right;\n    }\n</style>\n<table border=\"1\" class=\"dataframe\">\n  <thead>\n    <tr style=\"text-align: right;\">\n      <th></th>\n      <th>Film</th>\n      <th>Genre</th>\n      <th>Lead Studio</th>\n      <th>Audience score %</th>\n      <th>Profitability</th>\n      <th>Rotten Tomatoes %</th>\n      <th>Worldwide Gross</th>\n      <th>Year</th>\n    </tr>\n  </thead>\n  <tbody>\n    <tr>\n      <th>0</th>\n      <td>Zack and Miri Make a Porno</td>\n      <td>Romance</td>\n      <td>The Weinstein Company</td>\n      <td>70</td>\n      <td>1.747542</td>\n      <td>64</td>\n      <td>$41.94</td>\n      <td>2008</td>\n    </tr>\n    <tr>\n      <th>1</th>\n      <td>Youth in Revolt</td>\n      <td>Comedy</td>\n      <td>The Weinstein Company</td>\n      <td>52</td>\n      <td>1.090000</td>\n      <td>68</td>\n      <td>$19.62</td>\n      <td>2010</td>\n    </tr>\n    <tr>\n      <th>2</th>\n      <td>You Will Meet a Tall Dark Stranger</td>\n      <td>Comedy</td>\n      <td>Independent</td>\n      <td>35</td>\n      <td>1.211818</td>\n      <td>43</td>\n      <td>$26.66</td>\n      <td>2010</td>\n    </tr>\n    <tr>\n      <th>3</th>\n      <td>When in Rome</td>\n      <td>Comedy</td>\n      <td>Disney</td>\n      <td>44</td>\n      <td>0.000000</td>\n      <td>15</td>\n      <td>$43.04</td>\n      <td>2010</td>\n    </tr>\n    <tr>\n      <th>4</th>\n      <td>What Happens in Vegas</td>\n      <td>Comedy</td>\n      <td>Fox</td>\n      <td>72</td>\n      <td>6.267647</td>\n      <td>28</td>\n      <td>$219.37</td>\n      <td>2008</td>\n    </tr>\n    <tr>\n      <th>...</th>\n      <td>...</td>\n      <td>...</td>\n      <td>...</td>\n      <td>...</td>\n      <td>...</td>\n      <td>...</td>\n      <td>...</td>\n      <td>...</td>\n    </tr>\n    <tr>\n      <th>72</th>\n      <td>Across the Universe</td>\n      <td>romance</td>\n      <td>Independent</td>\n      <td>84</td>\n      <td>0.652603</td>\n      <td>54</td>\n      <td>$29.37</td>\n      <td>2007</td>\n    </tr>\n    <tr>\n      <th>73</th>\n      <td>A Serious Man</td>\n      <td>Drama</td>\n      <td>Universal</td>\n      <td>64</td>\n      <td>4.382857</td>\n      <td>89</td>\n      <td>$30.68</td>\n      <td>2009</td>\n    </tr>\n    <tr>\n      <th>74</th>\n      <td>A Dangerous Method</td>\n      <td>Drama</td>\n      <td>Independent</td>\n      <td>89</td>\n      <td>0.448645</td>\n      <td>79</td>\n      <td>$8.97</td>\n      <td>2011</td>\n    </tr>\n    <tr>\n      <th>75</th>\n      <td>27 Dresses</td>\n      <td>Comedy</td>\n      <td>Fox</td>\n      <td>71</td>\n      <td>5.343622</td>\n      <td>40</td>\n      <td>$160.31</td>\n      <td>2008</td>\n    </tr>\n    <tr>\n      <th>76</th>\n      <td>(500) Days of Summer</td>\n      <td>comedy</td>\n      <td>Fox</td>\n      <td>81</td>\n      <td>8.096000</td>\n      <td>87</td>\n      <td>$60.72</td>\n      <td>2009</td>\n    </tr>\n  </tbody>\n</table>\n<p>77 rows × 8 columns</p>\n</div>"
     },
     "metadata": {},
     "execution_count": 177
    }
   ],
   "source": [
    "df = pd.read_csv(\"https://gist.githubusercontent.com/tiangechen/b68782efa49a16edaf07dc2cdaa855ea/raw/0c794a9717f18b094eabab2cd6a6b9a226903577/movies.csv\")\n",
    "df"
   ]
  },
  {
   "cell_type": "code",
   "execution_count": 303,
   "metadata": {},
   "outputs": [
    {
     "output_type": "stream",
     "name": "stdout",
     "text": [
      "        Height Qualification       Hobby\nSarah      5.1           Msc      Poetry\nPrinci     6.2            MA  Travelling\nGaurav     5.1           Msc      Biking\nAnuj       5.2           Msc      Sports\n\n After droping the last two rows\n"
     ]
    },
    {
     "output_type": "execute_result",
     "data": {
      "text/plain": [
       "        Height Qualification       Hobby\n",
       "Princi     6.2            MA  Travelling\n",
       "Gaurav     5.1           Msc      Biking"
      ],
      "text/html": "<div>\n<style scoped>\n    .dataframe tbody tr th:only-of-type {\n        vertical-align: middle;\n    }\n\n    .dataframe tbody tr th {\n        vertical-align: top;\n    }\n\n    .dataframe thead th {\n        text-align: right;\n    }\n</style>\n<table border=\"1\" class=\"dataframe\">\n  <thead>\n    <tr style=\"text-align: right;\">\n      <th></th>\n      <th>Height</th>\n      <th>Qualification</th>\n      <th>Hobby</th>\n    </tr>\n  </thead>\n  <tbody>\n    <tr>\n      <th>Princi</th>\n      <td>6.2</td>\n      <td>MA</td>\n      <td>Travelling</td>\n    </tr>\n    <tr>\n      <th>Gaurav</th>\n      <td>5.1</td>\n      <td>Msc</td>\n      <td>Biking</td>\n    </tr>\n  </tbody>\n</table>\n</div>"
     },
     "metadata": {},
     "execution_count": 303
    }
   ],
   "source": [
    "# Import pandas package  \n",
    "import pandas as pd \n",
    "   \n",
    "# Define a dictionary containing Students data \n",
    "data = {'Height': [5.1, 6.2, 5.1, 5.2], \n",
    "        'Qualification': ['Msc', 'MA', 'Msc', 'Msc'],\n",
    "        'Hobby': ['Poetry', 'Travelling', 'Biking', 'Sports']} \n",
    " \n",
    "df = pd.DataFrame(data)\n",
    "df.index = ['Sarah', 'Princi', 'Gaurav', 'Anuj']\n",
    " \n",
    "print(df)\n",
    "\n",
    "print(\"\\n After droping the last two rows\")\n",
    "\n",
    "\n",
    "df.drop([\"Sarah\", \"Anuj\"])\n"
   ]
  },
  {
   "cell_type": "code",
   "execution_count": 269,
   "metadata": {},
   "outputs": [
    {
     "output_type": "stream",
     "name": "stdout",
     "text": [
      "     Name  Height Qualification       Hobby\n0   Sarah     5.1           Msc      Poetry\n1  Princi     6.2            MA  Travelling\n2  Gaurav     5.1           Msc      Biking\n\n After dropping \n\n"
     ]
    },
    {
     "output_type": "execute_result",
     "data": {
      "text/plain": [
       "     Name  Height Qualification       Hobby\n",
       "1  Princi     6.2            MA  Travelling\n",
       "2  Gaurav     5.1           Msc      Biking"
      ],
      "text/html": "<div>\n<style scoped>\n    .dataframe tbody tr th:only-of-type {\n        vertical-align: middle;\n    }\n\n    .dataframe tbody tr th {\n        vertical-align: top;\n    }\n\n    .dataframe thead th {\n        text-align: right;\n    }\n</style>\n<table border=\"1\" class=\"dataframe\">\n  <thead>\n    <tr style=\"text-align: right;\">\n      <th></th>\n      <th>Name</th>\n      <th>Height</th>\n      <th>Qualification</th>\n      <th>Hobby</th>\n    </tr>\n  </thead>\n  <tbody>\n    <tr>\n      <th>1</th>\n      <td>Princi</td>\n      <td>6.2</td>\n      <td>MA</td>\n      <td>Travelling</td>\n    </tr>\n    <tr>\n      <th>2</th>\n      <td>Gaurav</td>\n      <td>5.1</td>\n      <td>Msc</td>\n      <td>Biking</td>\n    </tr>\n  </tbody>\n</table>\n</div>"
     },
     "metadata": {},
     "execution_count": 269
    }
   ],
   "source": [
    "# Import pandas package  \n",
    "import pandas as pd \n",
    "   \n",
    "# Define a dictionary containing Students data \n",
    "data = {'Name': ['Sarah', 'Princi', 'Gaurav'], \n",
    "        'Height': [5.1, 6.2, 5.1], \n",
    "        'Qualification': ['Msc', 'MA', 'Msc'],\n",
    "        'Hobby': ['Poetry', 'Travelling', 'Biking']} \n",
    "   \n",
    "# Convert the dictionary into DataFrame \n",
    "df = pd.DataFrame(data) \n",
    " \n",
    "print(df)\n",
    " \n",
    "print('\\n After dropping \\n')\n",
    " \n",
    "df.drop([0])"
   ]
  },
  {
   "cell_type": "code",
   "execution_count": 305,
   "metadata": {},
   "outputs": [
    {
     "output_type": "execute_result",
     "data": {
      "text/plain": [
       "               Film   Genre   Lead Studio  Audience score %  Profitability  \\\n",
       "36  No Reservations  Comedy  Warner Bros.                64       3.307180   \n",
       "51   License to Wed  Comedy  Warner Bros.                55       1.980206   \n",
       "\n",
       "    Rotten Tomatoes % Worldwide Gross  Year  \n",
       "36                 39         $92.60   2007  \n",
       "51                  8         $69.31   2007  "
      ],
      "text/html": "<div>\n<style scoped>\n    .dataframe tbody tr th:only-of-type {\n        vertical-align: middle;\n    }\n\n    .dataframe tbody tr th {\n        vertical-align: top;\n    }\n\n    .dataframe thead th {\n        text-align: right;\n    }\n</style>\n<table border=\"1\" class=\"dataframe\">\n  <thead>\n    <tr style=\"text-align: right;\">\n      <th></th>\n      <th>Film</th>\n      <th>Genre</th>\n      <th>Lead Studio</th>\n      <th>Audience score %</th>\n      <th>Profitability</th>\n      <th>Rotten Tomatoes %</th>\n      <th>Worldwide Gross</th>\n      <th>Year</th>\n    </tr>\n  </thead>\n  <tbody>\n    <tr>\n      <th>36</th>\n      <td>No Reservations</td>\n      <td>Comedy</td>\n      <td>Warner Bros.</td>\n      <td>64</td>\n      <td>3.307180</td>\n      <td>39</td>\n      <td>$92.60</td>\n      <td>2007</td>\n    </tr>\n    <tr>\n      <th>51</th>\n      <td>License to Wed</td>\n      <td>Comedy</td>\n      <td>Warner Bros.</td>\n      <td>55</td>\n      <td>1.980206</td>\n      <td>8</td>\n      <td>$69.31</td>\n      <td>2007</td>\n    </tr>\n  </tbody>\n</table>\n</div>"
     },
     "metadata": {},
     "execution_count": 305
    }
   ],
   "source": [
    "import pandas as pd\n",
    "df= pd.read_csv(\"movies.csv\")\n",
    "\n",
    "df[(df['Year'] == 2007) & (df['Genre'] == 'Comedy') & (df['Lead Studio'] == 'Warner Bros.')]"
   ]
  },
  {
   "cell_type": "code",
   "execution_count": null,
   "metadata": {},
   "outputs": [],
   "source": []
  }
 ]
}