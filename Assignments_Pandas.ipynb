{
 "metadata": {
  "language_info": {
   "codemirror_mode": {
    "name": "ipython",
    "version": 3
   },
   "file_extension": ".py",
   "mimetype": "text/x-python",
   "name": "python",
   "nbconvert_exporter": "python",
   "pygments_lexer": "ipython3",
   "version": "3.8.5-final"
  },
  "orig_nbformat": 2,
  "kernelspec": {
   "name": "python3",
   "display_name": "Python 3",
   "language": "python"
  }
 },
 "nbformat": 4,
 "nbformat_minor": 2,
 "cells": [
  {
   "cell_type": "code",
   "execution_count": 1,
   "metadata": {},
   "outputs": [
    {
     "output_type": "execute_result",
     "data": {
      "text/plain": [
       "                                  Film    Genre            Lead Studio  \\\n",
       "0           Zack and Miri Make a Porno  Romance  The Weinstein Company   \n",
       "1                      Youth in Revolt   Comedy  The Weinstein Company   \n",
       "2   You Will Meet a Tall Dark Stranger   Comedy            Independent   \n",
       "3                         When in Rome   Comedy                 Disney   \n",
       "4                What Happens in Vegas   Comedy                    Fox   \n",
       "..                                 ...      ...                    ...   \n",
       "72                 Across the Universe  romance            Independent   \n",
       "73                       A Serious Man    Drama              Universal   \n",
       "74                  A Dangerous Method    Drama            Independent   \n",
       "75                          27 Dresses   Comedy                    Fox   \n",
       "76                (500) Days of Summer   comedy                    Fox   \n",
       "\n",
       "    Audience score %  Profitability  Rotten Tomatoes % Worldwide Gross  Year  \n",
       "0                 70       1.747542                 64         $41.94   2008  \n",
       "1                 52       1.090000                 68         $19.62   2010  \n",
       "2                 35       1.211818                 43         $26.66   2010  \n",
       "3                 44       0.000000                 15         $43.04   2010  \n",
       "4                 72       6.267647                 28        $219.37   2008  \n",
       "..               ...            ...                ...             ...   ...  \n",
       "72                84       0.652603                 54         $29.37   2007  \n",
       "73                64       4.382857                 89         $30.68   2009  \n",
       "74                89       0.448645                 79          $8.97   2011  \n",
       "75                71       5.343622                 40        $160.31   2008  \n",
       "76                81       8.096000                 87         $60.72   2009  \n",
       "\n",
       "[77 rows x 8 columns]"
      ],
      "text/html": "<div>\n<style scoped>\n    .dataframe tbody tr th:only-of-type {\n        vertical-align: middle;\n    }\n\n    .dataframe tbody tr th {\n        vertical-align: top;\n    }\n\n    .dataframe thead th {\n        text-align: right;\n    }\n</style>\n<table border=\"1\" class=\"dataframe\">\n  <thead>\n    <tr style=\"text-align: right;\">\n      <th></th>\n      <th>Film</th>\n      <th>Genre</th>\n      <th>Lead Studio</th>\n      <th>Audience score %</th>\n      <th>Profitability</th>\n      <th>Rotten Tomatoes %</th>\n      <th>Worldwide Gross</th>\n      <th>Year</th>\n    </tr>\n  </thead>\n  <tbody>\n    <tr>\n      <th>0</th>\n      <td>Zack and Miri Make a Porno</td>\n      <td>Romance</td>\n      <td>The Weinstein Company</td>\n      <td>70</td>\n      <td>1.747542</td>\n      <td>64</td>\n      <td>$41.94</td>\n      <td>2008</td>\n    </tr>\n    <tr>\n      <th>1</th>\n      <td>Youth in Revolt</td>\n      <td>Comedy</td>\n      <td>The Weinstein Company</td>\n      <td>52</td>\n      <td>1.090000</td>\n      <td>68</td>\n      <td>$19.62</td>\n      <td>2010</td>\n    </tr>\n    <tr>\n      <th>2</th>\n      <td>You Will Meet a Tall Dark Stranger</td>\n      <td>Comedy</td>\n      <td>Independent</td>\n      <td>35</td>\n      <td>1.211818</td>\n      <td>43</td>\n      <td>$26.66</td>\n      <td>2010</td>\n    </tr>\n    <tr>\n      <th>3</th>\n      <td>When in Rome</td>\n      <td>Comedy</td>\n      <td>Disney</td>\n      <td>44</td>\n      <td>0.000000</td>\n      <td>15</td>\n      <td>$43.04</td>\n      <td>2010</td>\n    </tr>\n    <tr>\n      <th>4</th>\n      <td>What Happens in Vegas</td>\n      <td>Comedy</td>\n      <td>Fox</td>\n      <td>72</td>\n      <td>6.267647</td>\n      <td>28</td>\n      <td>$219.37</td>\n      <td>2008</td>\n    </tr>\n    <tr>\n      <th>...</th>\n      <td>...</td>\n      <td>...</td>\n      <td>...</td>\n      <td>...</td>\n      <td>...</td>\n      <td>...</td>\n      <td>...</td>\n      <td>...</td>\n    </tr>\n    <tr>\n      <th>72</th>\n      <td>Across the Universe</td>\n      <td>romance</td>\n      <td>Independent</td>\n      <td>84</td>\n      <td>0.652603</td>\n      <td>54</td>\n      <td>$29.37</td>\n      <td>2007</td>\n    </tr>\n    <tr>\n      <th>73</th>\n      <td>A Serious Man</td>\n      <td>Drama</td>\n      <td>Universal</td>\n      <td>64</td>\n      <td>4.382857</td>\n      <td>89</td>\n      <td>$30.68</td>\n      <td>2009</td>\n    </tr>\n    <tr>\n      <th>74</th>\n      <td>A Dangerous Method</td>\n      <td>Drama</td>\n      <td>Independent</td>\n      <td>89</td>\n      <td>0.448645</td>\n      <td>79</td>\n      <td>$8.97</td>\n      <td>2011</td>\n    </tr>\n    <tr>\n      <th>75</th>\n      <td>27 Dresses</td>\n      <td>Comedy</td>\n      <td>Fox</td>\n      <td>71</td>\n      <td>5.343622</td>\n      <td>40</td>\n      <td>$160.31</td>\n      <td>2008</td>\n    </tr>\n    <tr>\n      <th>76</th>\n      <td>(500) Days of Summer</td>\n      <td>comedy</td>\n      <td>Fox</td>\n      <td>81</td>\n      <td>8.096000</td>\n      <td>87</td>\n      <td>$60.72</td>\n      <td>2009</td>\n    </tr>\n  </tbody>\n</table>\n<p>77 rows × 8 columns</p>\n</div>"
     },
     "metadata": {},
     "execution_count": 1
    }
   ],
   "source": [
    "import pandas as pd\n",
    "df= pd.read_csv(\"movies.csv\")\n",
    "df"
   ]
  },
  {
   "cell_type": "code",
   "execution_count": 308,
   "metadata": {},
   "outputs": [
    {
     "output_type": "execute_result",
     "data": {
      "text/plain": [
       "                                 Film      Genre            Lead Studio  \\\n",
       "0          Zack and Miri Make a Porno    Romance  The Weinstein Company   \n",
       "1                     Youth in Revolt     Comedy  The Weinstein Company   \n",
       "2  You Will Meet a Tall Dark Stranger     Comedy            Independent   \n",
       "3                        When in Rome     Comedy                 Disney   \n",
       "4               What Happens in Vegas     Comedy                    Fox   \n",
       "5                 Water For Elephants      Drama       20th Century Fox   \n",
       "6                              WALL-E  Animation                 Disney   \n",
       "7                            Waitress    Romance            Independent   \n",
       "8                 Waiting For Forever    Romance            Independent   \n",
       "9                     Valentine's Day     Comedy           Warner Bros.   \n",
       "\n",
       "   Audience score %  Profitability  Rotten Tomatoes % Worldwide Gross  Year  \n",
       "0                70       1.747542                 64         $41.94   2008  \n",
       "1                52       1.090000                 68         $19.62   2010  \n",
       "2                35       1.211818                 43         $26.66   2010  \n",
       "3                44       0.000000                 15         $43.04   2010  \n",
       "4                72       6.267647                 28        $219.37   2008  \n",
       "5                72       3.081421                 60        $117.09   2011  \n",
       "6                89       2.896019                 96        $521.28   2008  \n",
       "7                67      11.089741                 89         $22.18   2007  \n",
       "8                53       0.005000                  6          $0.03   2011  \n",
       "9                54       4.184038                 17        $217.57   2010  "
      ],
      "text/html": "<div>\n<style scoped>\n    .dataframe tbody tr th:only-of-type {\n        vertical-align: middle;\n    }\n\n    .dataframe tbody tr th {\n        vertical-align: top;\n    }\n\n    .dataframe thead th {\n        text-align: right;\n    }\n</style>\n<table border=\"1\" class=\"dataframe\">\n  <thead>\n    <tr style=\"text-align: right;\">\n      <th></th>\n      <th>Film</th>\n      <th>Genre</th>\n      <th>Lead Studio</th>\n      <th>Audience score %</th>\n      <th>Profitability</th>\n      <th>Rotten Tomatoes %</th>\n      <th>Worldwide Gross</th>\n      <th>Year</th>\n    </tr>\n  </thead>\n  <tbody>\n    <tr>\n      <th>0</th>\n      <td>Zack and Miri Make a Porno</td>\n      <td>Romance</td>\n      <td>The Weinstein Company</td>\n      <td>70</td>\n      <td>1.747542</td>\n      <td>64</td>\n      <td>$41.94</td>\n      <td>2008</td>\n    </tr>\n    <tr>\n      <th>1</th>\n      <td>Youth in Revolt</td>\n      <td>Comedy</td>\n      <td>The Weinstein Company</td>\n      <td>52</td>\n      <td>1.090000</td>\n      <td>68</td>\n      <td>$19.62</td>\n      <td>2010</td>\n    </tr>\n    <tr>\n      <th>2</th>\n      <td>You Will Meet a Tall Dark Stranger</td>\n      <td>Comedy</td>\n      <td>Independent</td>\n      <td>35</td>\n      <td>1.211818</td>\n      <td>43</td>\n      <td>$26.66</td>\n      <td>2010</td>\n    </tr>\n    <tr>\n      <th>3</th>\n      <td>When in Rome</td>\n      <td>Comedy</td>\n      <td>Disney</td>\n      <td>44</td>\n      <td>0.000000</td>\n      <td>15</td>\n      <td>$43.04</td>\n      <td>2010</td>\n    </tr>\n    <tr>\n      <th>4</th>\n      <td>What Happens in Vegas</td>\n      <td>Comedy</td>\n      <td>Fox</td>\n      <td>72</td>\n      <td>6.267647</td>\n      <td>28</td>\n      <td>$219.37</td>\n      <td>2008</td>\n    </tr>\n    <tr>\n      <th>5</th>\n      <td>Water For Elephants</td>\n      <td>Drama</td>\n      <td>20th Century Fox</td>\n      <td>72</td>\n      <td>3.081421</td>\n      <td>60</td>\n      <td>$117.09</td>\n      <td>2011</td>\n    </tr>\n    <tr>\n      <th>6</th>\n      <td>WALL-E</td>\n      <td>Animation</td>\n      <td>Disney</td>\n      <td>89</td>\n      <td>2.896019</td>\n      <td>96</td>\n      <td>$521.28</td>\n      <td>2008</td>\n    </tr>\n    <tr>\n      <th>7</th>\n      <td>Waitress</td>\n      <td>Romance</td>\n      <td>Independent</td>\n      <td>67</td>\n      <td>11.089741</td>\n      <td>89</td>\n      <td>$22.18</td>\n      <td>2007</td>\n    </tr>\n    <tr>\n      <th>8</th>\n      <td>Waiting For Forever</td>\n      <td>Romance</td>\n      <td>Independent</td>\n      <td>53</td>\n      <td>0.005000</td>\n      <td>6</td>\n      <td>$0.03</td>\n      <td>2011</td>\n    </tr>\n    <tr>\n      <th>9</th>\n      <td>Valentine's Day</td>\n      <td>Comedy</td>\n      <td>Warner Bros.</td>\n      <td>54</td>\n      <td>4.184038</td>\n      <td>17</td>\n      <td>$217.57</td>\n      <td>2010</td>\n    </tr>\n  </tbody>\n</table>\n</div>"
     },
     "metadata": {},
     "execution_count": 308
    }
   ],
   "source": [
    "# 1 \n",
    "# Can you print the first 10 records. v1\n",
    "import pandas as pd\n",
    "df= pd.read_csv(\"movies.csv\")\n",
    "\n",
    "df.iloc[:10:]"
   ]
  },
  {
   "cell_type": "code",
   "execution_count": 305,
   "metadata": {},
   "outputs": [
    {
     "output_type": "execute_result",
     "data": {
      "text/plain": [
       "                                 Film      Genre            Lead Studio  \\\n",
       "0          Zack and Miri Make a Porno    Romance  The Weinstein Company   \n",
       "1                     Youth in Revolt     Comedy  The Weinstein Company   \n",
       "2  You Will Meet a Tall Dark Stranger     Comedy            Independent   \n",
       "3                        When in Rome     Comedy                 Disney   \n",
       "4               What Happens in Vegas     Comedy                    Fox   \n",
       "5                 Water For Elephants      Drama       20th Century Fox   \n",
       "6                              WALL-E  Animation                 Disney   \n",
       "7                            Waitress    Romance            Independent   \n",
       "8                 Waiting For Forever    Romance            Independent   \n",
       "9                     Valentine's Day     Comedy           Warner Bros.   \n",
       "\n",
       "   Audience score %  Profitability  Rotten Tomatoes % Worldwide Gross  Year  \n",
       "0                70       1.747542                 64         $41.94   2008  \n",
       "1                52       1.090000                 68         $19.62   2010  \n",
       "2                35       1.211818                 43         $26.66   2010  \n",
       "3                44       0.000000                 15         $43.04   2010  \n",
       "4                72       6.267647                 28        $219.37   2008  \n",
       "5                72       3.081421                 60        $117.09   2011  \n",
       "6                89       2.896019                 96        $521.28   2008  \n",
       "7                67      11.089741                 89         $22.18   2007  \n",
       "8                53       0.005000                  6          $0.03   2011  \n",
       "9                54       4.184038                 17        $217.57   2010  "
      ],
      "text/html": "<div>\n<style scoped>\n    .dataframe tbody tr th:only-of-type {\n        vertical-align: middle;\n    }\n\n    .dataframe tbody tr th {\n        vertical-align: top;\n    }\n\n    .dataframe thead th {\n        text-align: right;\n    }\n</style>\n<table border=\"1\" class=\"dataframe\">\n  <thead>\n    <tr style=\"text-align: right;\">\n      <th></th>\n      <th>Film</th>\n      <th>Genre</th>\n      <th>Lead Studio</th>\n      <th>Audience score %</th>\n      <th>Profitability</th>\n      <th>Rotten Tomatoes %</th>\n      <th>Worldwide Gross</th>\n      <th>Year</th>\n    </tr>\n  </thead>\n  <tbody>\n    <tr>\n      <th>0</th>\n      <td>Zack and Miri Make a Porno</td>\n      <td>Romance</td>\n      <td>The Weinstein Company</td>\n      <td>70</td>\n      <td>1.747542</td>\n      <td>64</td>\n      <td>$41.94</td>\n      <td>2008</td>\n    </tr>\n    <tr>\n      <th>1</th>\n      <td>Youth in Revolt</td>\n      <td>Comedy</td>\n      <td>The Weinstein Company</td>\n      <td>52</td>\n      <td>1.090000</td>\n      <td>68</td>\n      <td>$19.62</td>\n      <td>2010</td>\n    </tr>\n    <tr>\n      <th>2</th>\n      <td>You Will Meet a Tall Dark Stranger</td>\n      <td>Comedy</td>\n      <td>Independent</td>\n      <td>35</td>\n      <td>1.211818</td>\n      <td>43</td>\n      <td>$26.66</td>\n      <td>2010</td>\n    </tr>\n    <tr>\n      <th>3</th>\n      <td>When in Rome</td>\n      <td>Comedy</td>\n      <td>Disney</td>\n      <td>44</td>\n      <td>0.000000</td>\n      <td>15</td>\n      <td>$43.04</td>\n      <td>2010</td>\n    </tr>\n    <tr>\n      <th>4</th>\n      <td>What Happens in Vegas</td>\n      <td>Comedy</td>\n      <td>Fox</td>\n      <td>72</td>\n      <td>6.267647</td>\n      <td>28</td>\n      <td>$219.37</td>\n      <td>2008</td>\n    </tr>\n    <tr>\n      <th>5</th>\n      <td>Water For Elephants</td>\n      <td>Drama</td>\n      <td>20th Century Fox</td>\n      <td>72</td>\n      <td>3.081421</td>\n      <td>60</td>\n      <td>$117.09</td>\n      <td>2011</td>\n    </tr>\n    <tr>\n      <th>6</th>\n      <td>WALL-E</td>\n      <td>Animation</td>\n      <td>Disney</td>\n      <td>89</td>\n      <td>2.896019</td>\n      <td>96</td>\n      <td>$521.28</td>\n      <td>2008</td>\n    </tr>\n    <tr>\n      <th>7</th>\n      <td>Waitress</td>\n      <td>Romance</td>\n      <td>Independent</td>\n      <td>67</td>\n      <td>11.089741</td>\n      <td>89</td>\n      <td>$22.18</td>\n      <td>2007</td>\n    </tr>\n    <tr>\n      <th>8</th>\n      <td>Waiting For Forever</td>\n      <td>Romance</td>\n      <td>Independent</td>\n      <td>53</td>\n      <td>0.005000</td>\n      <td>6</td>\n      <td>$0.03</td>\n      <td>2011</td>\n    </tr>\n    <tr>\n      <th>9</th>\n      <td>Valentine's Day</td>\n      <td>Comedy</td>\n      <td>Warner Bros.</td>\n      <td>54</td>\n      <td>4.184038</td>\n      <td>17</td>\n      <td>$217.57</td>\n      <td>2010</td>\n    </tr>\n  </tbody>\n</table>\n</div>"
     },
     "metadata": {},
     "execution_count": 305
    }
   ],
   "source": [
    "# 1 \n",
    "# Can you print the first 10 records. v2\n",
    "\n",
    "import pandas as pd\n",
    "df= pd.read_csv(\"movies.csv\")\n",
    "df.head(10)\n"
   ]
  },
  {
   "cell_type": "code",
   "execution_count": 300,
   "metadata": {},
   "outputs": [
    {
     "output_type": "execute_result",
     "data": {
      "text/plain": [
       "Film                  object\n",
       "Genre                 object\n",
       "Lead Studio           object\n",
       "Audience score %       int64\n",
       "Profitability        float64\n",
       "Rotten Tomatoes %      int64\n",
       "Worldwide Gross       object\n",
       "Year                   int64\n",
       "dtype: object"
      ]
     },
     "metadata": {},
     "execution_count": 300
    }
   ],
   "source": [
    "# 2\n",
    "# What are the data types of the columns. FAIL\n",
    "\n",
    "import pandas as pd\n",
    "df= pd.read_csv(\"movies.csv\")\n",
    "df.dtypes\n"
   ]
  },
  {
   "cell_type": "code",
   "execution_count": 145,
   "metadata": {},
   "outputs": [
    {
     "output_type": "execute_result",
     "data": {
      "text/plain": [
       "4"
      ]
     },
     "metadata": {},
     "execution_count": 145
    }
   ],
   "source": [
    "# 3\n",
    "# Count of Animation movies.\n",
    "# Hint: use the count() function\n",
    "\n",
    "import pandas as pd\n",
    "df= pd.read_csv(\"movies.csv\")\n",
    "(df[df['Genre'] == \"Animation\"][\"Film\"].count())"
   ]
  },
  {
   "cell_type": "code",
   "execution_count": 466,
   "metadata": {},
   "outputs": [
    {
     "output_type": "execute_result",
     "data": {
      "text/plain": [
       "4"
      ]
     },
     "metadata": {},
     "execution_count": 466
    }
   ],
   "source": [
    "# 3 alternative\n",
    "df.Genre.value_counts()[\"Animation\"]"
   ]
  },
  {
   "cell_type": "code",
   "execution_count": 470,
   "metadata": {},
   "outputs": [],
   "source": [
    "# replace\n",
    "df['Genre'] = df['Genre'].replace(['Comdy','comedy','Romence','romance'],['Comedy','Comedy','Romance','Romance'], inplace=True)\n",
    "df['Genre'].replace(['Comdy','comedy','Romence','romance'],['Comedy','Comedy','Romance','Romance'], inplace=True)"
   ]
  },
  {
   "cell_type": "code",
   "execution_count": 184,
   "metadata": {},
   "outputs": [
    {
     "output_type": "execute_result",
     "data": {
      "text/plain": [
       "                  Film   Genre   Lead Studio  Audience score %  Profitability  \\\n",
       "18  The Heartbreak Kid  Comedy     Paramount                41       2.129444   \n",
       "36     No Reservations  Comedy  Warner Bros.                64       3.307180   \n",
       "51      License to Wed  Comedy  Warner Bros.                55       1.980206   \n",
       "54          Knocked Up  Comedy     Universal                83       6.636402   \n",
       "62     Good Luck Chuck  Comedy     Lionsgate                61       2.367685   \n",
       "69           Enchanted  Comedy        Disney                80       4.005737   \n",
       "\n",
       "    Rotten Tomatoes % Worldwide Gross  Year  \n",
       "18                 30        $127.77   2007  \n",
       "36                 39         $92.60   2007  \n",
       "51                  8         $69.31   2007  \n",
       "54                 91           $219   2007  \n",
       "62                  3         $59.19   2007  \n",
       "69                 93        $340.49   2007  "
      ],
      "text/html": "<div>\n<style scoped>\n    .dataframe tbody tr th:only-of-type {\n        vertical-align: middle;\n    }\n\n    .dataframe tbody tr th {\n        vertical-align: top;\n    }\n\n    .dataframe thead th {\n        text-align: right;\n    }\n</style>\n<table border=\"1\" class=\"dataframe\">\n  <thead>\n    <tr style=\"text-align: right;\">\n      <th></th>\n      <th>Film</th>\n      <th>Genre</th>\n      <th>Lead Studio</th>\n      <th>Audience score %</th>\n      <th>Profitability</th>\n      <th>Rotten Tomatoes %</th>\n      <th>Worldwide Gross</th>\n      <th>Year</th>\n    </tr>\n  </thead>\n  <tbody>\n    <tr>\n      <th>18</th>\n      <td>The Heartbreak Kid</td>\n      <td>Comedy</td>\n      <td>Paramount</td>\n      <td>41</td>\n      <td>2.129444</td>\n      <td>30</td>\n      <td>$127.77</td>\n      <td>2007</td>\n    </tr>\n    <tr>\n      <th>36</th>\n      <td>No Reservations</td>\n      <td>Comedy</td>\n      <td>Warner Bros.</td>\n      <td>64</td>\n      <td>3.307180</td>\n      <td>39</td>\n      <td>$92.60</td>\n      <td>2007</td>\n    </tr>\n    <tr>\n      <th>51</th>\n      <td>License to Wed</td>\n      <td>Comedy</td>\n      <td>Warner Bros.</td>\n      <td>55</td>\n      <td>1.980206</td>\n      <td>8</td>\n      <td>$69.31</td>\n      <td>2007</td>\n    </tr>\n    <tr>\n      <th>54</th>\n      <td>Knocked Up</td>\n      <td>Comedy</td>\n      <td>Universal</td>\n      <td>83</td>\n      <td>6.636402</td>\n      <td>91</td>\n      <td>$219</td>\n      <td>2007</td>\n    </tr>\n    <tr>\n      <th>62</th>\n      <td>Good Luck Chuck</td>\n      <td>Comedy</td>\n      <td>Lionsgate</td>\n      <td>61</td>\n      <td>2.367685</td>\n      <td>3</td>\n      <td>$59.19</td>\n      <td>2007</td>\n    </tr>\n    <tr>\n      <th>69</th>\n      <td>Enchanted</td>\n      <td>Comedy</td>\n      <td>Disney</td>\n      <td>80</td>\n      <td>4.005737</td>\n      <td>93</td>\n      <td>$340.49</td>\n      <td>2007</td>\n    </tr>\n  </tbody>\n</table>\n</div>"
     },
     "metadata": {},
     "execution_count": 184
    }
   ],
   "source": [
    "# 4\n",
    "# Show the Comedy movies in the year 2007.\n",
    "import pandas as pd\n",
    "df= pd.read_csv(\"movies.csv\")\n",
    "df[(df['Genre'] == 'Comedy') & (df['Year'] == 2007)]\n"
   ]
  },
  {
   "cell_type": "code",
   "execution_count": 251,
   "metadata": {},
   "outputs": [
    {
     "output_type": "execute_result",
     "data": {
      "text/plain": [
       "2"
      ]
     },
     "metadata": {},
     "execution_count": 251
    }
   ],
   "source": [
    "# 5\n",
    "# Count of Animation movies with more than 70% Audience Score.\n",
    "\n",
    "import pandas as pd\n",
    "df= pd.read_csv(\"movies.csv\")\n",
    "(df[(df['Audience score %'] > 70) & (df['Genre'] == 'Animation') ][\"Film\"].count())"
   ]
  },
  {
   "cell_type": "code",
   "execution_count": 257,
   "metadata": {},
   "outputs": [
    {
     "output_type": "execute_result",
     "data": {
      "text/plain": [
       "                                  Film    Genre  Lead Studio  \\\n",
       "68                           Fireproof    Drama  Independent   \n",
       "60  High School Musical 3: Senior Year   Comedy       Disney   \n",
       "14         The Twilight Saga: New Moon    Drama       Summit   \n",
       "7                             Waitress  Romance  Independent   \n",
       "12                            Twilight  Romance       Summit   \n",
       "\n",
       "    Audience score %  Profitability  Rotten Tomatoes % Worldwide Gross  Year  \n",
       "68                51      66.934000                 40         $33.47   2008  \n",
       "60                76      22.913136                 65        $252.04   2008  \n",
       "14                78      14.196400                 27        $709.82   2009  \n",
       "7                 67      11.089741                 89         $22.18   2007  \n",
       "12                82      10.180027                 49        $376.66   2008  "
      ],
      "text/html": "<div>\n<style scoped>\n    .dataframe tbody tr th:only-of-type {\n        vertical-align: middle;\n    }\n\n    .dataframe tbody tr th {\n        vertical-align: top;\n    }\n\n    .dataframe thead th {\n        text-align: right;\n    }\n</style>\n<table border=\"1\" class=\"dataframe\">\n  <thead>\n    <tr style=\"text-align: right;\">\n      <th></th>\n      <th>Film</th>\n      <th>Genre</th>\n      <th>Lead Studio</th>\n      <th>Audience score %</th>\n      <th>Profitability</th>\n      <th>Rotten Tomatoes %</th>\n      <th>Worldwide Gross</th>\n      <th>Year</th>\n    </tr>\n  </thead>\n  <tbody>\n    <tr>\n      <th>68</th>\n      <td>Fireproof</td>\n      <td>Drama</td>\n      <td>Independent</td>\n      <td>51</td>\n      <td>66.934000</td>\n      <td>40</td>\n      <td>$33.47</td>\n      <td>2008</td>\n    </tr>\n    <tr>\n      <th>60</th>\n      <td>High School Musical 3: Senior Year</td>\n      <td>Comedy</td>\n      <td>Disney</td>\n      <td>76</td>\n      <td>22.913136</td>\n      <td>65</td>\n      <td>$252.04</td>\n      <td>2008</td>\n    </tr>\n    <tr>\n      <th>14</th>\n      <td>The Twilight Saga: New Moon</td>\n      <td>Drama</td>\n      <td>Summit</td>\n      <td>78</td>\n      <td>14.196400</td>\n      <td>27</td>\n      <td>$709.82</td>\n      <td>2009</td>\n    </tr>\n    <tr>\n      <th>7</th>\n      <td>Waitress</td>\n      <td>Romance</td>\n      <td>Independent</td>\n      <td>67</td>\n      <td>11.089741</td>\n      <td>89</td>\n      <td>$22.18</td>\n      <td>2007</td>\n    </tr>\n    <tr>\n      <th>12</th>\n      <td>Twilight</td>\n      <td>Romance</td>\n      <td>Summit</td>\n      <td>82</td>\n      <td>10.180027</td>\n      <td>49</td>\n      <td>$376.66</td>\n      <td>2008</td>\n    </tr>\n  </tbody>\n</table>\n</div>"
     },
     "metadata": {},
     "execution_count": 257
    }
   ],
   "source": [
    "# 6\n",
    "# Show the list of top 5 movies based on profitability.\n",
    "\n",
    "import pandas as pd\n",
    "df= pd.read_csv(\"movies.csv\")\n",
    "df.sort_values(by = \"Profitability\", ascending = False ).head(5)"
   ]
  },
  {
   "cell_type": "code",
   "execution_count": 304,
   "metadata": {},
   "outputs": [
    {
     "output_type": "execute_result",
     "data": {
      "text/plain": [
       "                Film   Genre   Lead Studio  Audience score %  Profitability  \\\n",
       "54        Knocked Up  Comedy     Universal                83       6.636402   \n",
       "27  Sex and the City  Comedy  Warner Bros.                81       7.221796   \n",
       "69         Enchanted  Comedy        Disney                80       4.005737   \n",
       "71         Beginners  Comedy   Independent                80       4.471875   \n",
       "44     Marley and Me  Comedy           Fox                77       3.746782   \n",
       "\n",
       "    Rotten Tomatoes % Worldwide Gross  Year  \n",
       "54                 91           $219   2007  \n",
       "27                 49        $415.25   2008  \n",
       "69                 93        $340.49   2007  \n",
       "71                 84         $14.31   2011  \n",
       "44                 63        $206.07   2008  "
      ],
      "text/html": "<div>\n<style scoped>\n    .dataframe tbody tr th:only-of-type {\n        vertical-align: middle;\n    }\n\n    .dataframe tbody tr th {\n        vertical-align: top;\n    }\n\n    .dataframe thead th {\n        text-align: right;\n    }\n</style>\n<table border=\"1\" class=\"dataframe\">\n  <thead>\n    <tr style=\"text-align: right;\">\n      <th></th>\n      <th>Film</th>\n      <th>Genre</th>\n      <th>Lead Studio</th>\n      <th>Audience score %</th>\n      <th>Profitability</th>\n      <th>Rotten Tomatoes %</th>\n      <th>Worldwide Gross</th>\n      <th>Year</th>\n    </tr>\n  </thead>\n  <tbody>\n    <tr>\n      <th>54</th>\n      <td>Knocked Up</td>\n      <td>Comedy</td>\n      <td>Universal</td>\n      <td>83</td>\n      <td>6.636402</td>\n      <td>91</td>\n      <td>$219</td>\n      <td>2007</td>\n    </tr>\n    <tr>\n      <th>27</th>\n      <td>Sex and the City</td>\n      <td>Comedy</td>\n      <td>Warner Bros.</td>\n      <td>81</td>\n      <td>7.221796</td>\n      <td>49</td>\n      <td>$415.25</td>\n      <td>2008</td>\n    </tr>\n    <tr>\n      <th>69</th>\n      <td>Enchanted</td>\n      <td>Comedy</td>\n      <td>Disney</td>\n      <td>80</td>\n      <td>4.005737</td>\n      <td>93</td>\n      <td>$340.49</td>\n      <td>2007</td>\n    </tr>\n    <tr>\n      <th>71</th>\n      <td>Beginners</td>\n      <td>Comedy</td>\n      <td>Independent</td>\n      <td>80</td>\n      <td>4.471875</td>\n      <td>84</td>\n      <td>$14.31</td>\n      <td>2011</td>\n    </tr>\n    <tr>\n      <th>44</th>\n      <td>Marley and Me</td>\n      <td>Comedy</td>\n      <td>Fox</td>\n      <td>77</td>\n      <td>3.746782</td>\n      <td>63</td>\n      <td>$206.07</td>\n      <td>2008</td>\n    </tr>\n  </tbody>\n</table>\n</div>"
     },
     "metadata": {},
     "execution_count": 304
    }
   ],
   "source": [
    "# 7 \n",
    "# Show the top 5 Comedy movies approved by the audience. (hint : Audience Score)\n",
    "\n",
    "import pandas as pd\n",
    "df= pd.read_csv(\"movies.csv\")\n",
    "(df.sort_values(by = \"Audience score %\", ascending = False ) [df['Genre'] == 'Comedy'].head(5))\n"
   ]
  },
  {
   "cell_type": "code",
   "execution_count": 465,
   "metadata": {},
   "outputs": [
    {
     "output_type": "error",
     "ename": "ValueError",
     "evalue": "invalid literal for int() with base 10: '$41.94 '",
     "traceback": [
      "\u001b[1;31m---------------------------------------------------------------------------\u001b[0m",
      "\u001b[1;31mValueError\u001b[0m                                Traceback (most recent call last)",
      "\u001b[1;32m<ipython-input-465-bdb4ebd55bf7>\u001b[0m in \u001b[0;36m<module>\u001b[1;34m\u001b[0m\n\u001b[0;32m      3\u001b[0m \u001b[1;32mimport\u001b[0m \u001b[0mpandas\u001b[0m \u001b[1;32mas\u001b[0m \u001b[0mpd\u001b[0m\u001b[1;33m\u001b[0m\u001b[1;33m\u001b[0m\u001b[0m\n\u001b[0;32m      4\u001b[0m \u001b[0mdf\u001b[0m\u001b[1;33m=\u001b[0m \u001b[0mpd\u001b[0m\u001b[1;33m.\u001b[0m\u001b[0mread_csv\u001b[0m\u001b[1;33m(\u001b[0m\u001b[1;34m\"movies.csv\"\u001b[0m\u001b[1;33m)\u001b[0m\u001b[1;33m\u001b[0m\u001b[1;33m\u001b[0m\u001b[0m\n\u001b[1;32m----> 5\u001b[1;33m \u001b[0mdf\u001b[0m\u001b[1;33m[\u001b[0m\u001b[1;34m'Worldwide Gross'\u001b[0m\u001b[1;33m]\u001b[0m \u001b[1;33m=\u001b[0m \u001b[0mdf\u001b[0m\u001b[1;33m[\u001b[0m\u001b[1;34m'Worldwide Gross'\u001b[0m\u001b[1;33m]\u001b[0m\u001b[1;33m.\u001b[0m\u001b[0mastype\u001b[0m\u001b[1;33m(\u001b[0m\u001b[0mint\u001b[0m\u001b[1;33m)\u001b[0m\u001b[1;33m\u001b[0m\u001b[1;33m\u001b[0m\u001b[0m\n\u001b[0m\u001b[0;32m      6\u001b[0m \u001b[0mdf\u001b[0m\u001b[1;33m[\u001b[0m\u001b[1;33m(\u001b[0m\u001b[0mdf\u001b[0m\u001b[1;33m[\u001b[0m\u001b[1;34m'Audience score %'\u001b[0m\u001b[1;33m]\u001b[0m \u001b[1;33m>\u001b[0m \u001b[1;36m70\u001b[0m\u001b[1;33m)\u001b[0m\u001b[1;33m]\u001b[0m\u001b[1;33m\u001b[0m\u001b[1;33m\u001b[0m\u001b[0m\n",
      "\u001b[1;32m~\\anaconda3\\lib\\site-packages\\pandas\\core\\generic.py\u001b[0m in \u001b[0;36mastype\u001b[1;34m(self, dtype, copy, errors)\u001b[0m\n\u001b[0;32m   5544\u001b[0m         \u001b[1;32melse\u001b[0m\u001b[1;33m:\u001b[0m\u001b[1;33m\u001b[0m\u001b[1;33m\u001b[0m\u001b[0m\n\u001b[0;32m   5545\u001b[0m             \u001b[1;31m# else, only a single dtype is given\u001b[0m\u001b[1;33m\u001b[0m\u001b[1;33m\u001b[0m\u001b[1;33m\u001b[0m\u001b[0m\n\u001b[1;32m-> 5546\u001b[1;33m             \u001b[0mnew_data\u001b[0m \u001b[1;33m=\u001b[0m \u001b[0mself\u001b[0m\u001b[1;33m.\u001b[0m\u001b[0m_mgr\u001b[0m\u001b[1;33m.\u001b[0m\u001b[0mastype\u001b[0m\u001b[1;33m(\u001b[0m\u001b[0mdtype\u001b[0m\u001b[1;33m=\u001b[0m\u001b[0mdtype\u001b[0m\u001b[1;33m,\u001b[0m \u001b[0mcopy\u001b[0m\u001b[1;33m=\u001b[0m\u001b[0mcopy\u001b[0m\u001b[1;33m,\u001b[0m \u001b[0merrors\u001b[0m\u001b[1;33m=\u001b[0m\u001b[0merrors\u001b[0m\u001b[1;33m,\u001b[0m\u001b[1;33m)\u001b[0m\u001b[1;33m\u001b[0m\u001b[1;33m\u001b[0m\u001b[0m\n\u001b[0m\u001b[0;32m   5547\u001b[0m             \u001b[1;32mreturn\u001b[0m \u001b[0mself\u001b[0m\u001b[1;33m.\u001b[0m\u001b[0m_constructor\u001b[0m\u001b[1;33m(\u001b[0m\u001b[0mnew_data\u001b[0m\u001b[1;33m)\u001b[0m\u001b[1;33m.\u001b[0m\u001b[0m__finalize__\u001b[0m\u001b[1;33m(\u001b[0m\u001b[0mself\u001b[0m\u001b[1;33m,\u001b[0m \u001b[0mmethod\u001b[0m\u001b[1;33m=\u001b[0m\u001b[1;34m\"astype\"\u001b[0m\u001b[1;33m)\u001b[0m\u001b[1;33m\u001b[0m\u001b[1;33m\u001b[0m\u001b[0m\n\u001b[0;32m   5548\u001b[0m \u001b[1;33m\u001b[0m\u001b[0m\n",
      "\u001b[1;32m~\\anaconda3\\lib\\site-packages\\pandas\\core\\internals\\managers.py\u001b[0m in \u001b[0;36mastype\u001b[1;34m(self, dtype, copy, errors)\u001b[0m\n\u001b[0;32m    593\u001b[0m         \u001b[0mself\u001b[0m\u001b[1;33m,\u001b[0m \u001b[0mdtype\u001b[0m\u001b[1;33m,\u001b[0m \u001b[0mcopy\u001b[0m\u001b[1;33m:\u001b[0m \u001b[0mbool\u001b[0m \u001b[1;33m=\u001b[0m \u001b[1;32mFalse\u001b[0m\u001b[1;33m,\u001b[0m \u001b[0merrors\u001b[0m\u001b[1;33m:\u001b[0m \u001b[0mstr\u001b[0m \u001b[1;33m=\u001b[0m \u001b[1;34m\"raise\"\u001b[0m\u001b[1;33m\u001b[0m\u001b[1;33m\u001b[0m\u001b[0m\n\u001b[0;32m    594\u001b[0m     ) -> \"BlockManager\":\n\u001b[1;32m--> 595\u001b[1;33m         \u001b[1;32mreturn\u001b[0m \u001b[0mself\u001b[0m\u001b[1;33m.\u001b[0m\u001b[0mapply\u001b[0m\u001b[1;33m(\u001b[0m\u001b[1;34m\"astype\"\u001b[0m\u001b[1;33m,\u001b[0m \u001b[0mdtype\u001b[0m\u001b[1;33m=\u001b[0m\u001b[0mdtype\u001b[0m\u001b[1;33m,\u001b[0m \u001b[0mcopy\u001b[0m\u001b[1;33m=\u001b[0m\u001b[0mcopy\u001b[0m\u001b[1;33m,\u001b[0m \u001b[0merrors\u001b[0m\u001b[1;33m=\u001b[0m\u001b[0merrors\u001b[0m\u001b[1;33m)\u001b[0m\u001b[1;33m\u001b[0m\u001b[1;33m\u001b[0m\u001b[0m\n\u001b[0m\u001b[0;32m    596\u001b[0m \u001b[1;33m\u001b[0m\u001b[0m\n\u001b[0;32m    597\u001b[0m     def convert(\n",
      "\u001b[1;32m~\\anaconda3\\lib\\site-packages\\pandas\\core\\internals\\managers.py\u001b[0m in \u001b[0;36mapply\u001b[1;34m(self, f, align_keys, **kwargs)\u001b[0m\n\u001b[0;32m    404\u001b[0m                 \u001b[0mapplied\u001b[0m \u001b[1;33m=\u001b[0m \u001b[0mb\u001b[0m\u001b[1;33m.\u001b[0m\u001b[0mapply\u001b[0m\u001b[1;33m(\u001b[0m\u001b[0mf\u001b[0m\u001b[1;33m,\u001b[0m \u001b[1;33m**\u001b[0m\u001b[0mkwargs\u001b[0m\u001b[1;33m)\u001b[0m\u001b[1;33m\u001b[0m\u001b[1;33m\u001b[0m\u001b[0m\n\u001b[0;32m    405\u001b[0m             \u001b[1;32melse\u001b[0m\u001b[1;33m:\u001b[0m\u001b[1;33m\u001b[0m\u001b[1;33m\u001b[0m\u001b[0m\n\u001b[1;32m--> 406\u001b[1;33m                 \u001b[0mapplied\u001b[0m \u001b[1;33m=\u001b[0m \u001b[0mgetattr\u001b[0m\u001b[1;33m(\u001b[0m\u001b[0mb\u001b[0m\u001b[1;33m,\u001b[0m \u001b[0mf\u001b[0m\u001b[1;33m)\u001b[0m\u001b[1;33m(\u001b[0m\u001b[1;33m**\u001b[0m\u001b[0mkwargs\u001b[0m\u001b[1;33m)\u001b[0m\u001b[1;33m\u001b[0m\u001b[1;33m\u001b[0m\u001b[0m\n\u001b[0m\u001b[0;32m    407\u001b[0m             \u001b[0mresult_blocks\u001b[0m \u001b[1;33m=\u001b[0m \u001b[0m_extend_blocks\u001b[0m\u001b[1;33m(\u001b[0m\u001b[0mapplied\u001b[0m\u001b[1;33m,\u001b[0m \u001b[0mresult_blocks\u001b[0m\u001b[1;33m)\u001b[0m\u001b[1;33m\u001b[0m\u001b[1;33m\u001b[0m\u001b[0m\n\u001b[0;32m    408\u001b[0m \u001b[1;33m\u001b[0m\u001b[0m\n",
      "\u001b[1;32m~\\anaconda3\\lib\\site-packages\\pandas\\core\\internals\\blocks.py\u001b[0m in \u001b[0;36mastype\u001b[1;34m(self, dtype, copy, errors)\u001b[0m\n\u001b[0;32m    593\u001b[0m             \u001b[0mvals1d\u001b[0m \u001b[1;33m=\u001b[0m \u001b[0mvalues\u001b[0m\u001b[1;33m.\u001b[0m\u001b[0mravel\u001b[0m\u001b[1;33m(\u001b[0m\u001b[1;33m)\u001b[0m\u001b[1;33m\u001b[0m\u001b[1;33m\u001b[0m\u001b[0m\n\u001b[0;32m    594\u001b[0m             \u001b[1;32mtry\u001b[0m\u001b[1;33m:\u001b[0m\u001b[1;33m\u001b[0m\u001b[1;33m\u001b[0m\u001b[0m\n\u001b[1;32m--> 595\u001b[1;33m                 \u001b[0mvalues\u001b[0m \u001b[1;33m=\u001b[0m \u001b[0mastype_nansafe\u001b[0m\u001b[1;33m(\u001b[0m\u001b[0mvals1d\u001b[0m\u001b[1;33m,\u001b[0m \u001b[0mdtype\u001b[0m\u001b[1;33m,\u001b[0m \u001b[0mcopy\u001b[0m\u001b[1;33m=\u001b[0m\u001b[1;32mTrue\u001b[0m\u001b[1;33m)\u001b[0m\u001b[1;33m\u001b[0m\u001b[1;33m\u001b[0m\u001b[0m\n\u001b[0m\u001b[0;32m    596\u001b[0m             \u001b[1;32mexcept\u001b[0m \u001b[1;33m(\u001b[0m\u001b[0mValueError\u001b[0m\u001b[1;33m,\u001b[0m \u001b[0mTypeError\u001b[0m\u001b[1;33m)\u001b[0m\u001b[1;33m:\u001b[0m\u001b[1;33m\u001b[0m\u001b[1;33m\u001b[0m\u001b[0m\n\u001b[0;32m    597\u001b[0m                 \u001b[1;31m# e.g. astype_nansafe can fail on object-dtype of strings\u001b[0m\u001b[1;33m\u001b[0m\u001b[1;33m\u001b[0m\u001b[1;33m\u001b[0m\u001b[0m\n",
      "\u001b[1;32m~\\anaconda3\\lib\\site-packages\\pandas\\core\\dtypes\\cast.py\u001b[0m in \u001b[0;36mastype_nansafe\u001b[1;34m(arr, dtype, copy, skipna)\u001b[0m\n\u001b[0;32m    970\u001b[0m         \u001b[1;31m# work around NumPy brokenness, #1987\u001b[0m\u001b[1;33m\u001b[0m\u001b[1;33m\u001b[0m\u001b[1;33m\u001b[0m\u001b[0m\n\u001b[0;32m    971\u001b[0m         \u001b[1;32mif\u001b[0m \u001b[0mnp\u001b[0m\u001b[1;33m.\u001b[0m\u001b[0missubdtype\u001b[0m\u001b[1;33m(\u001b[0m\u001b[0mdtype\u001b[0m\u001b[1;33m.\u001b[0m\u001b[0mtype\u001b[0m\u001b[1;33m,\u001b[0m \u001b[0mnp\u001b[0m\u001b[1;33m.\u001b[0m\u001b[0minteger\u001b[0m\u001b[1;33m)\u001b[0m\u001b[1;33m:\u001b[0m\u001b[1;33m\u001b[0m\u001b[1;33m\u001b[0m\u001b[0m\n\u001b[1;32m--> 972\u001b[1;33m             \u001b[1;32mreturn\u001b[0m \u001b[0mlib\u001b[0m\u001b[1;33m.\u001b[0m\u001b[0mastype_intsafe\u001b[0m\u001b[1;33m(\u001b[0m\u001b[0marr\u001b[0m\u001b[1;33m.\u001b[0m\u001b[0mravel\u001b[0m\u001b[1;33m(\u001b[0m\u001b[1;33m)\u001b[0m\u001b[1;33m,\u001b[0m \u001b[0mdtype\u001b[0m\u001b[1;33m)\u001b[0m\u001b[1;33m.\u001b[0m\u001b[0mreshape\u001b[0m\u001b[1;33m(\u001b[0m\u001b[0marr\u001b[0m\u001b[1;33m.\u001b[0m\u001b[0mshape\u001b[0m\u001b[1;33m)\u001b[0m\u001b[1;33m\u001b[0m\u001b[1;33m\u001b[0m\u001b[0m\n\u001b[0m\u001b[0;32m    973\u001b[0m \u001b[1;33m\u001b[0m\u001b[0m\n\u001b[0;32m    974\u001b[0m         \u001b[1;31m# if we have a datetime/timedelta array of objects\u001b[0m\u001b[1;33m\u001b[0m\u001b[1;33m\u001b[0m\u001b[1;33m\u001b[0m\u001b[0m\n",
      "\u001b[1;32mpandas\\_libs\\lib.pyx\u001b[0m in \u001b[0;36mpandas._libs.lib.astype_intsafe\u001b[1;34m()\u001b[0m\n",
      "\u001b[1;31mValueError\u001b[0m: invalid literal for int() with base 10: '$41.94 '"
     ]
    }
   ],
   "source": [
    "# Extra exercises\n",
    "# Show the movies with more than 70% Audience Score & greater than $350 Worldwide Gross.\n",
    "import pandas as pd\n",
    "df= pd.read_csv(\"movies.csv\")\n",
    "df['Worldwide Gross']\n",
    "df['Worldwide Gross'] = df['Worldwide Gross'].astype(int)\n",
    "df[(df['Audience score %'] > 70) & (df['Worldwide Gross'] > 350)]"
   ]
  },
  {
   "cell_type": "code",
   "execution_count": 469,
   "metadata": {},
   "outputs": [
    {
     "output_type": "execute_result",
     "data": {
      "text/plain": [
       "                                  Film Genre            Lead Studio  \\\n",
       "0           Zack and Miri Make a Porno  None  The Weinstein Company   \n",
       "1                      Youth in Revolt  None  The Weinstein Company   \n",
       "2   You Will Meet a Tall Dark Stranger  None            Independent   \n",
       "3                         When in Rome  None                 Disney   \n",
       "4                What Happens in Vegas  None                    Fox   \n",
       "..                                 ...   ...                    ...   \n",
       "72                 Across the Universe  None            Independent   \n",
       "73                       A Serious Man  None              Universal   \n",
       "74                  A Dangerous Method  None            Independent   \n",
       "75                          27 Dresses  None                    Fox   \n",
       "76                (500) Days of Summer  None                    Fox   \n",
       "\n",
       "    Audience score %  Profitability  Rotten Tomatoes % Worldwide Gross  Year  \n",
       "0                 70       1.747542                 64         $41.94   2008  \n",
       "1                 52       1.090000                 68         $19.62   2010  \n",
       "2                 35       1.211818                 43         $26.66   2010  \n",
       "3                 44       0.000000                 15         $43.04   2010  \n",
       "4                 72       6.267647                 28        $219.37   2008  \n",
       "..               ...            ...                ...             ...   ...  \n",
       "72                84       0.652603                 54         $29.37   2007  \n",
       "73                64       4.382857                 89         $30.68   2009  \n",
       "74                89       0.448645                 79          $8.97   2011  \n",
       "75                71       5.343622                 40        $160.31   2008  \n",
       "76                81       8.096000                 87         $60.72   2009  \n",
       "\n",
       "[75 rows x 8 columns]"
      ],
      "text/html": "<div>\n<style scoped>\n    .dataframe tbody tr th:only-of-type {\n        vertical-align: middle;\n    }\n\n    .dataframe tbody tr th {\n        vertical-align: top;\n    }\n\n    .dataframe thead th {\n        text-align: right;\n    }\n</style>\n<table border=\"1\" class=\"dataframe\">\n  <thead>\n    <tr style=\"text-align: right;\">\n      <th></th>\n      <th>Film</th>\n      <th>Genre</th>\n      <th>Lead Studio</th>\n      <th>Audience score %</th>\n      <th>Profitability</th>\n      <th>Rotten Tomatoes %</th>\n      <th>Worldwide Gross</th>\n      <th>Year</th>\n    </tr>\n  </thead>\n  <tbody>\n    <tr>\n      <th>0</th>\n      <td>Zack and Miri Make a Porno</td>\n      <td>None</td>\n      <td>The Weinstein Company</td>\n      <td>70</td>\n      <td>1.747542</td>\n      <td>64</td>\n      <td>$41.94</td>\n      <td>2008</td>\n    </tr>\n    <tr>\n      <th>1</th>\n      <td>Youth in Revolt</td>\n      <td>None</td>\n      <td>The Weinstein Company</td>\n      <td>52</td>\n      <td>1.090000</td>\n      <td>68</td>\n      <td>$19.62</td>\n      <td>2010</td>\n    </tr>\n    <tr>\n      <th>2</th>\n      <td>You Will Meet a Tall Dark Stranger</td>\n      <td>None</td>\n      <td>Independent</td>\n      <td>35</td>\n      <td>1.211818</td>\n      <td>43</td>\n      <td>$26.66</td>\n      <td>2010</td>\n    </tr>\n    <tr>\n      <th>3</th>\n      <td>When in Rome</td>\n      <td>None</td>\n      <td>Disney</td>\n      <td>44</td>\n      <td>0.000000</td>\n      <td>15</td>\n      <td>$43.04</td>\n      <td>2010</td>\n    </tr>\n    <tr>\n      <th>4</th>\n      <td>What Happens in Vegas</td>\n      <td>None</td>\n      <td>Fox</td>\n      <td>72</td>\n      <td>6.267647</td>\n      <td>28</td>\n      <td>$219.37</td>\n      <td>2008</td>\n    </tr>\n    <tr>\n      <th>...</th>\n      <td>...</td>\n      <td>...</td>\n      <td>...</td>\n      <td>...</td>\n      <td>...</td>\n      <td>...</td>\n      <td>...</td>\n      <td>...</td>\n    </tr>\n    <tr>\n      <th>72</th>\n      <td>Across the Universe</td>\n      <td>None</td>\n      <td>Independent</td>\n      <td>84</td>\n      <td>0.652603</td>\n      <td>54</td>\n      <td>$29.37</td>\n      <td>2007</td>\n    </tr>\n    <tr>\n      <th>73</th>\n      <td>A Serious Man</td>\n      <td>None</td>\n      <td>Universal</td>\n      <td>64</td>\n      <td>4.382857</td>\n      <td>89</td>\n      <td>$30.68</td>\n      <td>2009</td>\n    </tr>\n    <tr>\n      <th>74</th>\n      <td>A Dangerous Method</td>\n      <td>None</td>\n      <td>Independent</td>\n      <td>89</td>\n      <td>0.448645</td>\n      <td>79</td>\n      <td>$8.97</td>\n      <td>2011</td>\n    </tr>\n    <tr>\n      <th>75</th>\n      <td>27 Dresses</td>\n      <td>None</td>\n      <td>Fox</td>\n      <td>71</td>\n      <td>5.343622</td>\n      <td>40</td>\n      <td>$160.31</td>\n      <td>2008</td>\n    </tr>\n    <tr>\n      <th>76</th>\n      <td>(500) Days of Summer</td>\n      <td>None</td>\n      <td>Fox</td>\n      <td>81</td>\n      <td>8.096000</td>\n      <td>87</td>\n      <td>$60.72</td>\n      <td>2009</td>\n    </tr>\n  </tbody>\n</table>\n<p>75 rows × 8 columns</p>\n</div>"
     },
     "metadata": {},
     "execution_count": 469
    }
   ],
   "source": [
    "df.drop_duplicates()"
   ]
  }
 ]
}